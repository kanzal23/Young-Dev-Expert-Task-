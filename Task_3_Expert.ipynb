{
  "nbformat": 4,
  "nbformat_minor": 0,
  "metadata": {
    "colab": {
      "provenance": []
    },
    "kernelspec": {
      "name": "python3",
      "display_name": "Python 3"
    },
    "language_info": {
      "name": "python"
    }
  },
  "cells": [
    {
      "cell_type": "code",
      "execution_count": null,
      "metadata": {
        "colab": {
          "base_uri": "https://localhost:8080/"
        },
        "id": "lsJDcudarfWg",
        "outputId": "7fd10867-3823-4640-a412-9e919f849035"
      },
      "outputs": [
        {
          "output_type": "stream",
          "name": "stdout",
          "text": [
            "Accuracy: 0.9626865671641791\n",
            "Classification Report:\n",
            "               precision    recall  f1-score   support\n",
            "\n",
            "           0       0.98      0.97      0.98       214\n",
            "           1       0.89      0.93      0.91        54\n",
            "\n",
            "    accuracy                           0.96       268\n",
            "   macro avg       0.94      0.95      0.94       268\n",
            "weighted avg       0.96      0.96      0.96       268\n",
            "\n"
          ]
        }
      ],
      "source": [
        "import pandas as pd\n",
        "from sklearn.model_selection import train_test_split\n",
        "from sklearn.ensemble import RandomForestClassifier\n",
        "from sklearn.metrics import classification_report, accuracy_score\n",
        "\n",
        "# Load dataset\n",
        "df = pd.read_csv('/content/insurance.csv')\n",
        "\n",
        "# Convert 'smoker' to binary: yes=1, no=0\n",
        "df['smoker'] = df['smoker'].map({'yes': 1, 'no': 0})\n",
        "\n",
        "# Set target and features\n",
        "target = 'smoker'\n",
        "features = df.drop(columns=[target])\n",
        "\n",
        "# Convert categorical variables to dummy/indicator variables\n",
        "features = pd.get_dummies(features)\n",
        "\n",
        "# Define labels\n",
        "labels = df[target]\n",
        "\n",
        "# Split into train/test sets\n",
        "X_train, X_test, y_train, y_test = train_test_split(features, labels, test_size=0.2, random_state=42)\n",
        "\n",
        "# Train model\n",
        "model = RandomForestClassifier(random_state=42)\n",
        "model.fit(X_train, y_train)\n",
        "\n",
        "# Predict and evaluate\n",
        "y_pred = model.predict(X_test)\n",
        "print(\"Accuracy:\", accuracy_score(y_test, y_pred))\n",
        "print(\"Classification Report:\\n\", classification_report(y_test, y_pred))\n"
      ]
    }
  ]
}